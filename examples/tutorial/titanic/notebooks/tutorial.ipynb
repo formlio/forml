{
 "cells": [
  {
   "cell_type": "code",
   "execution_count": 1,
   "metadata": {},
   "outputs": [],
   "source": [
    "import pandas as pd\n",
    "import category_encoders\n",
    "from sklearn import dummy\n",
    "\n",
    "from forml import project\n",
    "from forml.lib.pipeline import debug, topology"
   ]
  },
  {
   "cell_type": "markdown",
   "metadata": {},
   "source": [
    "Titanic on ForML Tutorial\n",
    "=========================\n",
    "\n",
    "ForML framework allows to implement a ML solution using formalized project components and it's structured description. This is great for any project lifecycle management but less suitable for any exploratory type of work typical for Jupyter notebooks. In this tutorial we will demonstrate the ForML-jupyter interoperability showing it's features by examples.\n",
    "\n",
    "Quick Start\n",
    "-----------\n",
    "Let's start with the quick run of the defined Titanic implementation as per the standard project structure within the `../src` directory tree. This approach assumes the project is already implemented and we just want to execute some of its modes from Jupyter. Later in the following section we will also demonstrate how to use ForML for more exploratory work when the formal project structure might not exist yet.\n",
    "\n",
    "The easiest way is to get the project handle using the `project.Artifact` class pointed to the project implementation:"
   ]
  },
  {
   "cell_type": "code",
   "execution_count": 2,
   "metadata": {},
   "outputs": [],
   "source": [
    "PROJECT = project.open(path='..', package='titanic')"
   ]
  },
  {
   "cell_type": "markdown",
   "metadata": {},
   "source": [
    "Now we have the project handle so we can easily execute it's particular mode using it's `.launcher` property. It can optionally be parametrized with a specific runner implementation passed as an item to the launcher property. Finally the method called on the launcher object triggers the project mode execution.\n",
    "\n",
    "Let's execute the `train` mode on the `graphviz` runner to render the flow graph vizualization that you can see displayed bellow:"
   ]
  },
  {
   "cell_type": "code",
   "execution_count": 3,
   "metadata": {},
   "outputs": [
    {
     "name": "stderr",
     "output_type": "stream",
     "text": [
      "WARNING: 2021-09-29 00:43:27,158: launcher: Runner finished but sink queue empty\n"
     ]
    }
   ],
   "source": [
    "PROJECT.launcher['graphviz'].train()"
   ]
  },
  {
   "cell_type": "markdown",
   "metadata": {},
   "source": [
    "Now lets run the `train` mode again but on the `dask` executor this time followed by executing the `apply` (predict) mode. Dask is the default runner so we don't need (but we can) to specify it explicitly:"
   ]
  },
  {
   "cell_type": "code",
   "execution_count": 5,
   "metadata": {},
   "outputs": [
    {
     "data": {
      "text/plain": [
       "array([0.3806418 , 0.38893813, 0.38618584, 0.38813036, 0.38132258,\n",
       "       0.38047687, 0.38233119, 0.38087779, 0.38687783, 0.38926058])"
      ]
     },
     "execution_count": 5,
     "metadata": {},
     "output_type": "execute_result"
    }
   ],
   "source": [
    "PROJECT.launcher.train()\n",
    "predictions = PROJECT.launcher['dask'].apply()\n",
    "predictions[:10]"
   ]
  },
  {
   "cell_type": "markdown",
   "metadata": {},
   "source": [
    "Or we can run the `eval` mode to get the crossvalidation evaluation metric as per the project implementation:"
   ]
  },
  {
   "cell_type": "code",
   "execution_count": 6,
   "metadata": {},
   "outputs": [
    {
     "data": {
      "text/plain": [
       "0.6495329775069851"
      ]
     },
     "execution_count": 6,
     "metadata": {},
     "output_type": "execute_result"
    }
   ],
   "source": [
    "PROJECT.launcher.eval()"
   ]
  },
  {
   "cell_type": "markdown",
   "metadata": {},
   "source": [
    "Exploration with ForML on Jupyter\n",
    "-----------------------------------\n",
    "\n",
    "Despite being strongly oriented on the formalized project structure, ForML also allows to engage snippets of code defined outside of any project and executing them within a pipeline. This is especially useful for the Jupyter style of work. It can even mix the two approaches - resuing some of the formal project components while supplying others inline.\n",
    "\n",
    "Let's demonstrate this features by running the original `source` component (`../src/titanic/source`) through set of custom inline operators.\n",
    "\n",
    "We start with reusing the `source` component from the actual project and running it through a dummy pipline with just the `Return` operator:"
   ]
  },
  {
   "cell_type": "code",
   "execution_count": 7,
   "metadata": {},
   "outputs": [
    {
     "name": "stderr",
     "output_type": "stream",
     "text": [
      "WARNING: 2021-09-29 00:44:52,789: product: Project evaluation error: No module named 'evaluation'\n",
      "WARNING: 2021-09-29 00:44:52,790: product: Incomplete builder (missing evaluation)\n",
      "WARNING: 2021-09-29 00:44:52,811: product: Project evaluation error: No module named 'evaluation'\n",
      "WARNING: 2021-09-29 00:44:52,812: product: Incomplete builder (missing evaluation)\n",
      "WARNING: 2021-09-29 00:44:52,837: product: Project evaluation error: No module named 'evaluation'\n",
      "WARNING: 2021-09-29 00:44:52,838: product: Incomplete builder (missing evaluation)\n"
     ]
    },
    {
     "data": {
      "text/html": [
       "<div>\n",
       "<style scoped>\n",
       "    .dataframe tbody tr th:only-of-type {\n",
       "        vertical-align: middle;\n",
       "    }\n",
       "\n",
       "    .dataframe tbody tr th {\n",
       "        vertical-align: top;\n",
       "    }\n",
       "\n",
       "    .dataframe thead th {\n",
       "        text-align: right;\n",
       "    }\n",
       "</style>\n",
       "<table border=\"1\" class=\"dataframe\">\n",
       "  <thead>\n",
       "    <tr style=\"text-align: right;\">\n",
       "      <th></th>\n",
       "      <th>label</th>\n",
       "      <th>Pclass</th>\n",
       "      <th>Name</th>\n",
       "      <th>Sex</th>\n",
       "      <th>Age</th>\n",
       "      <th>SibSp</th>\n",
       "      <th>Parch</th>\n",
       "      <th>Ticket</th>\n",
       "      <th>Fare</th>\n",
       "      <th>Cabin</th>\n",
       "      <th>Embarked</th>\n",
       "    </tr>\n",
       "  </thead>\n",
       "  <tbody>\n",
       "    <tr>\n",
       "      <th>0</th>\n",
       "      <td>0</td>\n",
       "      <td>3</td>\n",
       "      <td>Braund, Mr. Owen Harris</td>\n",
       "      <td>male</td>\n",
       "      <td>22.0</td>\n",
       "      <td>1</td>\n",
       "      <td>0</td>\n",
       "      <td>A/5 21171</td>\n",
       "      <td>7.2500</td>\n",
       "      <td>None</td>\n",
       "      <td>S</td>\n",
       "    </tr>\n",
       "    <tr>\n",
       "      <th>1</th>\n",
       "      <td>1</td>\n",
       "      <td>1</td>\n",
       "      <td>Cumings, Mrs. John Bradley (Florence Briggs Th...</td>\n",
       "      <td>female</td>\n",
       "      <td>38.0</td>\n",
       "      <td>1</td>\n",
       "      <td>0</td>\n",
       "      <td>PC 17599</td>\n",
       "      <td>71.2833</td>\n",
       "      <td>C85</td>\n",
       "      <td>C</td>\n",
       "    </tr>\n",
       "    <tr>\n",
       "      <th>2</th>\n",
       "      <td>1</td>\n",
       "      <td>3</td>\n",
       "      <td>Heikkinen, Miss. Laina</td>\n",
       "      <td>female</td>\n",
       "      <td>26.0</td>\n",
       "      <td>0</td>\n",
       "      <td>0</td>\n",
       "      <td>STON/O2. 3101282</td>\n",
       "      <td>7.9250</td>\n",
       "      <td>None</td>\n",
       "      <td>S</td>\n",
       "    </tr>\n",
       "    <tr>\n",
       "      <th>3</th>\n",
       "      <td>1</td>\n",
       "      <td>1</td>\n",
       "      <td>Futrelle, Mrs. Jacques Heath (Lily May Peel)</td>\n",
       "      <td>female</td>\n",
       "      <td>35.0</td>\n",
       "      <td>1</td>\n",
       "      <td>0</td>\n",
       "      <td>113803</td>\n",
       "      <td>53.1000</td>\n",
       "      <td>C123</td>\n",
       "      <td>S</td>\n",
       "    </tr>\n",
       "    <tr>\n",
       "      <th>4</th>\n",
       "      <td>0</td>\n",
       "      <td>3</td>\n",
       "      <td>Allen, Mr. William Henry</td>\n",
       "      <td>male</td>\n",
       "      <td>35.0</td>\n",
       "      <td>0</td>\n",
       "      <td>0</td>\n",
       "      <td>373450</td>\n",
       "      <td>8.0500</td>\n",
       "      <td>None</td>\n",
       "      <td>S</td>\n",
       "    </tr>\n",
       "  </tbody>\n",
       "</table>\n",
       "</div>"
      ],
      "text/plain": [
       "   label  Pclass                                               Name     Sex  \\\n",
       "0      0       3                            Braund, Mr. Owen Harris    male   \n",
       "1      1       1  Cumings, Mrs. John Bradley (Florence Briggs Th...  female   \n",
       "2      1       3                             Heikkinen, Miss. Laina  female   \n",
       "3      1       1       Futrelle, Mrs. Jacques Heath (Lily May Peel)  female   \n",
       "4      0       3                           Allen, Mr. William Henry    male   \n",
       "\n",
       "    Age  SibSp  Parch            Ticket     Fare Cabin Embarked  \n",
       "0  22.0      1      0         A/5 21171   7.2500  None        S  \n",
       "1  38.0      1      0          PC 17599  71.2833   C85        C  \n",
       "2  26.0      0      0  STON/O2. 3101282   7.9250  None        S  \n",
       "3  35.0      1      0            113803  53.1000  C123        S  \n",
       "4  35.0      0      0            373450   8.0500  None        S  "
      ]
     },
     "execution_count": 7,
     "metadata": {},
     "output_type": "execute_result"
    }
   ],
   "source": [
    "SOURCE = PROJECT.descriptor.source\n",
    "PIPELINE = debug.Return()\n",
    "SOURCE.bind(PIPELINE).launcher.train().head()"
   ]
  },
  {
   "cell_type": "markdown",
   "metadata": {},
   "source": [
    "Let's now define custom stateless transformer operator for extracting a title from a name and use it in the pipeline exploring its output:"
   ]
  },
  {
   "cell_type": "code",
   "execution_count": 8,
   "metadata": {},
   "outputs": [
    {
     "name": "stderr",
     "output_type": "stream",
     "text": [
      "WARNING: 2021-09-29 00:45:01,571: product: Project evaluation error: No module named 'evaluation'\n",
      "WARNING: 2021-09-29 00:45:01,572: product: Incomplete builder (missing evaluation)\n",
      "WARNING: 2021-09-29 00:45:01,606: product: Project evaluation error: No module named 'evaluation'\n",
      "WARNING: 2021-09-29 00:45:01,606: product: Incomplete builder (missing evaluation)\n",
      "WARNING: 2021-09-29 00:45:01,636: product: Project evaluation error: No module named 'evaluation'\n",
      "WARNING: 2021-09-29 00:45:01,637: product: Incomplete builder (missing evaluation)\n"
     ]
    },
    {
     "data": {
      "text/html": [
       "<div>\n",
       "<style scoped>\n",
       "    .dataframe tbody tr th:only-of-type {\n",
       "        vertical-align: middle;\n",
       "    }\n",
       "\n",
       "    .dataframe tbody tr th {\n",
       "        vertical-align: top;\n",
       "    }\n",
       "\n",
       "    .dataframe thead th {\n",
       "        text-align: right;\n",
       "    }\n",
       "</style>\n",
       "<table border=\"1\" class=\"dataframe\">\n",
       "  <thead>\n",
       "    <tr style=\"text-align: right;\">\n",
       "      <th></th>\n",
       "      <th>Pclass</th>\n",
       "      <th>Name</th>\n",
       "      <th>Sex</th>\n",
       "      <th>Age</th>\n",
       "      <th>SibSp</th>\n",
       "      <th>Parch</th>\n",
       "      <th>Ticket</th>\n",
       "      <th>Fare</th>\n",
       "      <th>Cabin</th>\n",
       "      <th>Embarked</th>\n",
       "      <th>Title</th>\n",
       "    </tr>\n",
       "  </thead>\n",
       "  <tbody>\n",
       "    <tr>\n",
       "      <th>0</th>\n",
       "      <td>3</td>\n",
       "      <td>Braund, Mr. Owen Harris</td>\n",
       "      <td>male</td>\n",
       "      <td>22.0</td>\n",
       "      <td>1</td>\n",
       "      <td>0</td>\n",
       "      <td>A/5 21171</td>\n",
       "      <td>7.2500</td>\n",
       "      <td>None</td>\n",
       "      <td>S</td>\n",
       "      <td>Mr</td>\n",
       "    </tr>\n",
       "    <tr>\n",
       "      <th>1</th>\n",
       "      <td>1</td>\n",
       "      <td>Cumings, Mrs. John Bradley (Florence Briggs Th...</td>\n",
       "      <td>female</td>\n",
       "      <td>38.0</td>\n",
       "      <td>1</td>\n",
       "      <td>0</td>\n",
       "      <td>PC 17599</td>\n",
       "      <td>71.2833</td>\n",
       "      <td>C85</td>\n",
       "      <td>C</td>\n",
       "      <td>Mrs</td>\n",
       "    </tr>\n",
       "    <tr>\n",
       "      <th>2</th>\n",
       "      <td>3</td>\n",
       "      <td>Heikkinen, Miss. Laina</td>\n",
       "      <td>female</td>\n",
       "      <td>26.0</td>\n",
       "      <td>0</td>\n",
       "      <td>0</td>\n",
       "      <td>STON/O2. 3101282</td>\n",
       "      <td>7.9250</td>\n",
       "      <td>None</td>\n",
       "      <td>S</td>\n",
       "      <td>Miss</td>\n",
       "    </tr>\n",
       "    <tr>\n",
       "      <th>3</th>\n",
       "      <td>1</td>\n",
       "      <td>Futrelle, Mrs. Jacques Heath (Lily May Peel)</td>\n",
       "      <td>female</td>\n",
       "      <td>35.0</td>\n",
       "      <td>1</td>\n",
       "      <td>0</td>\n",
       "      <td>113803</td>\n",
       "      <td>53.1000</td>\n",
       "      <td>C123</td>\n",
       "      <td>S</td>\n",
       "      <td>Mrs</td>\n",
       "    </tr>\n",
       "    <tr>\n",
       "      <th>4</th>\n",
       "      <td>3</td>\n",
       "      <td>Allen, Mr. William Henry</td>\n",
       "      <td>male</td>\n",
       "      <td>35.0</td>\n",
       "      <td>0</td>\n",
       "      <td>0</td>\n",
       "      <td>373450</td>\n",
       "      <td>8.0500</td>\n",
       "      <td>None</td>\n",
       "      <td>S</td>\n",
       "      <td>Mr</td>\n",
       "    </tr>\n",
       "  </tbody>\n",
       "</table>\n",
       "</div>"
      ],
      "text/plain": [
       "   Pclass                                               Name     Sex   Age  \\\n",
       "0       3                            Braund, Mr. Owen Harris    male  22.0   \n",
       "1       1  Cumings, Mrs. John Bradley (Florence Briggs Th...  female  38.0   \n",
       "2       3                             Heikkinen, Miss. Laina  female  26.0   \n",
       "3       1       Futrelle, Mrs. Jacques Heath (Lily May Peel)  female  35.0   \n",
       "4       3                           Allen, Mr. William Henry    male  35.0   \n",
       "\n",
       "   SibSp  Parch            Ticket     Fare Cabin Embarked Title  \n",
       "0      1      0         A/5 21171   7.2500  None        S    Mr  \n",
       "1      1      0          PC 17599  71.2833   C85        C   Mrs  \n",
       "2      0      0  STON/O2. 3101282   7.9250  None        S  Miss  \n",
       "3      1      0            113803  53.1000  C123        S   Mrs  \n",
       "4      0      0            373450   8.0500  None        S    Mr  "
      ]
     },
     "execution_count": 8,
     "metadata": {},
     "output_type": "execute_result"
    }
   ],
   "source": [
    "@topology.Mapper.operator\n",
    "@topology.Function.actor\n",
    "def parse_title(df: pd.DataFrame, source: str, target: str) -> pd.DataFrame:\n",
    "    \"\"\"Transformer extracting a person's title from the name string implemented as wrapped stateless function.\n",
    "    \"\"\"\n",
    "    def get_title(name: str) -> str:\n",
    "        \"\"\"Auxiliary method for extracting the title.\n",
    "        \"\"\"\n",
    "        if '.' in name:\n",
    "            return name.split(',')[1].split('.')[0].strip()\n",
    "        return 'Unknown'\n",
    "\n",
    "    df[target] = df[source].map(get_title)\n",
    "    return df\n",
    "\n",
    "PIPELINE = parse_title(source='Name', target='Title')\n",
    "SOURCE.bind(PIPELINE).launcher.train().head()"
   ]
  },
  {
   "cell_type": "markdown",
   "metadata": {},
   "source": [
    "Let's now attach a `HashingEncoder` (stateful operator) to the pipeline and run it again, this time using the `graphviz` runner to display the runtime graph:"
   ]
  },
  {
   "cell_type": "code",
   "execution_count": 9,
   "metadata": {},
   "outputs": [
    {
     "name": "stderr",
     "output_type": "stream",
     "text": [
      "WARNING: 2021-09-29 00:45:05,745: product: Project evaluation error: No module named 'evaluation'\n",
      "WARNING: 2021-09-29 00:45:05,746: product: Incomplete builder (missing evaluation)\n",
      "WARNING: 2021-09-29 00:45:05,769: product: Project evaluation error: No module named 'evaluation'\n",
      "WARNING: 2021-09-29 00:45:05,770: product: Incomplete builder (missing evaluation)\n",
      "WARNING: 2021-09-29 00:45:05,789: product: Project evaluation error: No module named 'evaluation'\n",
      "WARNING: 2021-09-29 00:45:05,790: product: Incomplete builder (missing evaluation)\n",
      "WARNING: 2021-09-29 00:45:05,987: launcher: Runner finished but sink queue empty\n"
     ]
    }
   ],
   "source": [
    "ENCODER = topology.Mapper.operator(topology.Class.actor(category_encoders.HashingEncoder, train='fit', apply='transform'))\n",
    "PIPELINE >>= ENCODER(cols=['Name', 'Sex', 'Ticket', 'Cabin', 'Embarked', 'Title'])\n",
    "SOURCE.bind(PIPELINE).launcher['graphviz'].train()"
   ]
  },
  {
   "cell_type": "markdown",
   "metadata": {},
   "source": [
    "Finally we add a `DummyClassifier` estimator and run the `train` mode followed by `apply` mode to generate the predictions:"
   ]
  },
  {
   "cell_type": "code",
   "execution_count": 10,
   "metadata": {},
   "outputs": [
    {
     "name": "stderr",
     "output_type": "stream",
     "text": [
      "WARNING: 2021-09-29 00:45:11,978: product: Project evaluation error: No module named 'evaluation'\n",
      "WARNING: 2021-09-29 00:45:11,979: product: Incomplete builder (missing evaluation)\n",
      "WARNING: 2021-09-29 00:45:12,006: product: Project evaluation error: No module named 'evaluation'\n",
      "WARNING: 2021-09-29 00:45:12,006: product: Incomplete builder (missing evaluation)\n",
      "WARNING: 2021-09-29 00:45:12,032: product: Project evaluation error: No module named 'evaluation'\n",
      "WARNING: 2021-09-29 00:45:12,032: product: Incomplete builder (missing evaluation)\n",
      "WARNING: 2021-09-29 00:45:12,731: product: Project evaluation error: No module named 'evaluation'\n",
      "WARNING: 2021-09-29 00:45:12,732: product: Incomplete builder (missing evaluation)\n",
      "WARNING: 2021-09-29 00:45:12,778: product: Project evaluation error: No module named 'evaluation'\n",
      "WARNING: 2021-09-29 00:45:12,779: product: Incomplete builder (missing evaluation)\n",
      "WARNING: 2021-09-29 00:45:12,829: product: Project evaluation error: No module named 'evaluation'\n",
      "WARNING: 2021-09-29 00:45:12,830: product: Incomplete builder (missing evaluation)\n"
     ]
    },
    {
     "data": {
      "text/plain": [
       "array([[0.61616162, 0.38383838],\n",
       "       [0.61616162, 0.38383838],\n",
       "       [0.61616162, 0.38383838],\n",
       "       [0.61616162, 0.38383838],\n",
       "       [0.61616162, 0.38383838],\n",
       "       [0.61616162, 0.38383838],\n",
       "       [0.61616162, 0.38383838],\n",
       "       [0.61616162, 0.38383838],\n",
       "       [0.61616162, 0.38383838],\n",
       "       [0.61616162, 0.38383838]])"
      ]
     },
     "execution_count": 10,
     "metadata": {},
     "output_type": "execute_result"
    }
   ],
   "source": [
    "DUMMY = topology.Consumer.operator(topology.Class.actor(dummy.DummyClassifier, train='fit', apply='predict_proba'))\n",
    "PIPELINE >>= DUMMY()\n",
    "SOURCE.bind(PIPELINE).launcher.train()\n",
    "predictions = SOURCE.bind(PIPELINE).launcher.apply()\n",
    "predictions[:10]"
   ]
  }
 ],
 "metadata": {
  "kernelspec": {
   "display_name": "forml",
   "language": "python",
   "name": "forml"
  },
  "language_info": {
   "codemirror_mode": {
    "name": "ipython",
    "version": 3
   },
   "file_extension": ".py",
   "mimetype": "text/x-python",
   "name": "python",
   "nbconvert_exporter": "python",
   "pygments_lexer": "ipython3",
   "version": "3.9.5"
  }
 },
 "nbformat": 4,
 "nbformat_minor": 4
}
